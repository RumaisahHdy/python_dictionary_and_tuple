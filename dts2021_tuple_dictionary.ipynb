{
 "cells": [
  {
   "cell_type": "markdown",
   "id": "46221b4e",
   "metadata": {},
   "source": [
    "*Rumaisah Hidayatillah - DTS 2021 Indonesian Women in Tech: Programming with Python (C)*"
   ]
  },
  {
   "cell_type": "markdown",
   "id": "45414322",
   "metadata": {},
   "source": [
    "# Bagian 1. Tuple & Dictionary "
   ]
  },
  {
   "cell_type": "markdown",
   "id": "bb656e55",
   "metadata": {},
   "source": [
    "## 1.1 Tuple - Pemain Bulu Tangkis Indonesia di Olimpiade Tokyo 2020"
   ]
  },
  {
   "cell_type": "markdown",
   "id": "a36c33cc",
   "metadata": {},
   "source": [
    "### Tuple Concatenation / Fungsi penggabungan\n",
    "\n",
    "**Penggabungan dilakukan dengan operator +. Karena operator + dapat menggabungkan, maka fungsi ini dapat digunakan untuk menggabungkan tupel untuk membentuk tupel baru. Dibawah ini adalah contoh penerapannya, dihasilkan tuple baru dari gabungan tuple pemain bulu tangkis putra dan putri** "
   ]
  },
  {
   "cell_type": "code",
   "execution_count": 1,
   "id": "276ea213",
   "metadata": {},
   "outputs": [
    {
     "name": "stdout",
     "output_type": "stream",
     "text": [
      "('Jonatan Christie', 'AS Ginting', 'Kevin Sanjaya S', 'Marcus F Gideon', 'Mohammad Ahsan', 'Hendra Setiawan', 'Praveen Jordan', 'Gregoria Mariska Tunjung', 'Greysia Polii', 'Apriani Rahayu', 'Melati Daeva Oktavianti')\n"
     ]
    }
   ],
   "source": [
    "# Pemain bulu tangkis putra Olimpiade Tokyo 2020 \n",
    "putra = ('Jonatan Christie', 'AS Ginting', 'Kevin Sanjaya S',\n",
    "         'Marcus F Gideon','Mohammad Ahsan', 'Hendra Setiawan', \n",
    "         'Praveen Jordan')\n",
    "\n",
    "# Pemain bulu tangkis putri Olimpiade Tokyo 2020  \n",
    "putri = ('Gregoria Mariska Tunjung', 'Greysia Polii', 'Apriani Rahayu', \n",
    "         'Melati Daeva Oktavianti')\n",
    "\n",
    "# Tuple concatenation\n",
    "concatenate = putra + putri\n",
    "print(concatenate)"
   ]
  },
  {
   "cell_type": "markdown",
   "id": "c09f85e3",
   "metadata": {},
   "source": [
    "### Tuple Repetition \n",
    "**Kita terbiasa menggunakan simbol  *  untuk mewakili perkalian, tetapi ketika operan di sisi kiri *  adalah tupel, simbol ini menjadi operator pengulangan. Operator pengulangan membuat salinan dari sebuah tuple dan menggabungkan semuanya menjadi satu.**"
   ]
  },
  {
   "cell_type": "code",
   "execution_count": 2,
   "id": "df058d1f",
   "metadata": {},
   "outputs": [
    {
     "name": "stdout",
     "output_type": "stream",
     "text": [
      "('Jonatan Christie', 'AS Ginting', 'Kevin Sanjaya S', 'Marcus F Gideon', 'Mohammad Ahsan', 'Hendra Setiawan', 'Praveen Jordan', 'Gregoria Mariska Tunjung', 'Greysia Polii', 'Apriani Rahayu', 'Melati Daeva Oktavianti', 'Jonatan Christie', 'AS Ginting', 'Kevin Sanjaya S', 'Marcus F Gideon', 'Mohammad Ahsan', 'Hendra Setiawan', 'Praveen Jordan', 'Gregoria Mariska Tunjung', 'Greysia Polii', 'Apriani Rahayu', 'Melati Daeva Oktavianti', 'Jonatan Christie', 'AS Ginting', 'Kevin Sanjaya S', 'Marcus F Gideon', 'Mohammad Ahsan', 'Hendra Setiawan', 'Praveen Jordan', 'Gregoria Mariska Tunjung', 'Greysia Polii', 'Apriani Rahayu', 'Melati Daeva Oktavianti')\n"
     ]
    }
   ],
   "source": [
    "# Pemain bulu tangkis putra Olimpiade Tokyo 2020 \n",
    "putra = ('Jonatan Christie', 'AS Ginting', 'Kevin Sanjaya S',\n",
    "         'Marcus F Gideon','Mohammad Ahsan', 'Hendra Setiawan', \n",
    "         'Praveen Jordan')\n",
    "\n",
    "# Pemain bulu tangkis putri Olimpiade Tokyo 2020  \n",
    "putri = ('Gregoria Mariska Tunjung', 'Greysia Polii', 'Apriani Rahayu', \n",
    "         'Melati Daeva Oktavianti')\n",
    "\n",
    "# Repetition dari gabungan tuple putra dan putri\n",
    "repetition = (putra+putri) * 3\n",
    "print(repetition)"
   ]
  },
  {
   "cell_type": "markdown",
   "id": "c5d1595d",
   "metadata": {},
   "source": [
    "### Fungsi LEN\n",
    "**Metode Tuple len() menghitung jumlah elemen dalam Tuple. Pada contoh dibawah dapat dilihat jumlah elemen (anggota) dari tuple pemain putra dan putri.**"
   ]
  },
  {
   "cell_type": "code",
   "execution_count": 3,
   "id": "e17f74dc",
   "metadata": {},
   "outputs": [
    {
     "name": "stdout",
     "output_type": "stream",
     "text": [
      "Jumlah putra: 7\n",
      "Jumlah putri: 4\n"
     ]
    }
   ],
   "source": [
    "# Buat tuple objek\n",
    "putra = ('Jonatan Christie', 'AS Ginting', 'Kevin Sanjaya S',\n",
    "         'Marcus F Gideon','Mohammad Ahsan', 'Hendra Setiawan', \n",
    "         'Praveen Jordan')\n",
    "putri = ('Gregoria Mariska Tunjung', 'Greysia Polii', 'Apriani Rahayu', \n",
    "         'Melati Daeva Oktavianti')\n",
    "\n",
    "# Panggil len() method \n",
    "len_putra = len(putra)\n",
    "len_putri = len(putri)\n",
    "\n",
    "# Menampilkan panjang tuple \n",
    "print('Jumlah putra:',len_putra)\n",
    "print('Jumlah putri:',len_putri)"
   ]
  },
  {
   "cell_type": "markdown",
   "id": "18a7e002",
   "metadata": {},
   "source": [
    "### Fungsi MIN\n",
    "**Metode Tuple min() menghitung elemen dari Tuple dengan nilai minimum. Contoh di bawah ini menampilkan penerapan fungsi ini untuk mentukan usia pemain yang paling muda.**"
   ]
  },
  {
   "cell_type": "code",
   "execution_count": 4,
   "id": "3938bd70",
   "metadata": {},
   "outputs": [
    {
     "name": "stdout",
     "output_type": "stream",
     "text": [
      "Usia pemain paling muda: 21 tahun\n"
     ]
    }
   ],
   "source": [
    "# Buat objek tupel usia pemain putra dan putri\n",
    "## Jonatan Christie(23), AS Ginting(24), Kevin Sanjaya(26), Marcus Gideon(30), Mohammad Ahsan(33), Hendra Setiawan(36), Praveen Jordan(28)\n",
    "## Gregoria M Tunjung(21), Greysia Polii(33), Apriani Rahayu(23), Melati Daeva Oktavianti(26)\n",
    "\n",
    "putra_usia = (23, 24, 26, 30, 33, 36, 28)\n",
    "putri_usia = (21, 33, 23, 26)\n",
    "\n",
    "# panggil min() method untuk mendapatkan nilai minimum dari tuple \n",
    "minimum = min(putra_usia  + putri_usia)\n",
    "\n",
    "# print  value dari variable minimum\n",
    "print('Usia pemain paling muda:',+ minimum, 'tahun')"
   ]
  },
  {
   "cell_type": "markdown",
   "id": "e2cd69f8",
   "metadata": {},
   "source": [
    "### Fungsi MAX\n",
    "**Metode Tuple max() menghitung elemen dari Tuple dengan nilai maksimum. Contoh di bawah ini menampilkan penerapan fungsi ini untuk mentukan usia pemain yang paling tua.**"
   ]
  },
  {
   "cell_type": "code",
   "execution_count": 5,
   "id": "f9c74db6",
   "metadata": {},
   "outputs": [
    {
     "name": "stdout",
     "output_type": "stream",
     "text": [
      "Usia pemain paling tua: 36 tahun\n"
     ]
    }
   ],
   "source": [
    "# Objek tuple sama dengan fungsi MIN di atas\n",
    "putra_usia = (23, 24, 26, 30, 33, 36, 28)\n",
    "putri_usia = (21, 33, 23, 26)\n",
    "\n",
    "# panggil max() method untuk mendapatkan nilai maximum dari tuple \n",
    "maximum = max(putra_usia  + putri_usia)\n",
    "\n",
    "# print  value dari variable maximum\n",
    "print('Usia pemain paling tua:', maximum, 'tahun')"
   ]
  },
  {
   "cell_type": "markdown",
   "id": "1a06ec83",
   "metadata": {},
   "source": [
    "## 1.2 Dictionary - Pemain Bulu Tangkis Indonesia di Olimpiade Tokyo 2020"
   ]
  },
  {
   "cell_type": "markdown",
   "id": "e6aba2ff",
   "metadata": {},
   "source": [
    "### Mengakses Dictionary dengan sorted() Reverse / Descending \n",
    "**Fungsi sorted() Python dapat digunakan untuk mengurutkan Dictionary berdasarkan key, yang memungkinkan metode penyortiran khusus. Pada contoh di bawah penyortiran usia dilakukan dengan metode descending, sehingga menampilkan usia pemain yang paling tua terlebih dahulu.**"
   ]
  },
  {
   "cell_type": "code",
   "execution_count": 6,
   "id": "5cec5330",
   "metadata": {},
   "outputs": [
    {
     "name": "stdout",
     "output_type": "stream",
     "text": [
      "\u001b[1mPasangan Ganda Putra Indonesia :\u001b[0m\n",
      "Kevin Sanjaya & Marcus F.Gideon\n",
      "Mohammad Ahsan & Hendra Setiawan\n",
      "\u001b[1m\n",
      "Usia pemain (Descending Order) :\u001b[0m\n",
      "Hendra Setiawan -> 36 tahun\n",
      "Mohammad Ahsan -> 33 tahun\n",
      "Marcus F Gideon -> 30 tahun\n",
      "Kevin Sanjaya -> 26 tahun\n"
     ]
    }
   ],
   "source": [
    "# Dictionary untuk pasangan ganda putra\n",
    "dict = {'Kevin Sanjaya' : 'Marcus F.Gideon', 'Mohammad Ahsan' :'Hendra Setiawan'}\n",
    "usia = {'Kevin Sanjaya' : 26, 'Marcus F Gideon' : 30, 'Mohammad Ahsan' : 33, 'Hendra Setiawan' : 36}\n",
    "\n",
    "print('\\033[1m''Pasangan Ganda Putra Indonesia :''\\033[0m')  \n",
    "for key in dict.keys():\n",
    "    print(key, \"&\", dict[key])\n",
    "\n",
    "print('\\033[1m''\\nUsia pemain (Descending Order) :''\\033[0m')  \n",
    "\n",
    "sort_usia = sorted(usia.items(), key=lambda x: x[1], reverse=True)\n",
    "\n",
    "for i in sort_usia:\n",
    "    print(i[0],\"->\", i[1], 'tahun')"
   ]
  },
  {
   "cell_type": "markdown",
   "id": "ccbe45a7",
   "metadata": {},
   "source": [
    "### Mengakses Dictionary dengan sorted() Ascending\n",
    "**Fungsi sorted() Python dapat digunakan untuk mengurutkan Dictionary berdasarkan key, yang memungkinkan metode penyortiran khusus. Pada contoh di bawah penyortiran usia dilakukan dengan metode ascending, sehingga menampilkan usia pemain yang lebih muda terlebih dahulu.**"
   ]
  },
  {
   "cell_type": "code",
   "execution_count": 7,
   "id": "12f71e7b",
   "metadata": {},
   "outputs": [
    {
     "name": "stdout",
     "output_type": "stream",
     "text": [
      "\u001b[1mPasangan Ganda Putra Indonesia :\u001b[0m\n",
      "Kevin Sanjaya & Marcus F.Gideon\n",
      "Mohammad Ahsan & Hendra Setiawan\n",
      "\u001b[1m\n",
      "Usia pemain (Ascending Order) :\u001b[0m\n",
      "Kevin Sanjaya -> 26 tahun\n",
      "Marcus F Gideon -> 30 tahun\n",
      "Mohammad Ahsan -> 33 tahun\n",
      "Hendra Setiawan -> 36 tahun\n"
     ]
    }
   ],
   "source": [
    "# Dictionary untuk pasangan ganda putra\n",
    "dict = {'Kevin Sanjaya' : 'Marcus F.Gideon', 'Mohammad Ahsan' :'Hendra Setiawan'}\n",
    "usia = {'Kevin Sanjaya' : 26, 'Marcus F Gideon' : 30, 'Mohammad Ahsan' : 33, 'Hendra Setiawan' : 36}\n",
    "\n",
    "print('\\033[1m''Pasangan Ganda Putra Indonesia :''\\033[0m')  \n",
    "for key in dict.keys():\n",
    "    print(key, \"&\", dict[key])\n",
    "\n",
    "print('\\033[1m''\\nUsia pemain (Ascending Order) :''\\033[0m')  \n",
    "\n",
    "sort_usia = sorted(usia.items(), key=lambda x: x[1])\n",
    "\n",
    "for i in sort_usia:\n",
    "    print(i[0],\"->\", i[1], 'tahun')"
   ]
  },
  {
   "cell_type": "markdown",
   "id": "a4301544",
   "metadata": {},
   "source": [
    "### Mengakses Dictionary dengan items(): operasi del()\n",
    "**Operasi “del” digunakan untuk menghapus items yang memang ada. Akan menimbulkan KeyError item tidak ada dalam Dictionary. \n",
    "Pada contoh dibawah operasi del dilakukan untuk menghapus salah satu nama pemain putri, yaitu Melati Daeva Oktavianti. Dapat dilihat output yang dihasilkan; nama pemain ini terhapus dari dictionary.**"
   ]
  },
  {
   "cell_type": "code",
   "execution_count": 8,
   "id": "c16643b7",
   "metadata": {},
   "outputs": [
    {
     "name": "stdout",
     "output_type": "stream",
     "text": [
      "Original Dictionary items:\n",
      "dict_items([('Gregoria M Tunjung', 21), ('Greysia Polii', 33), ('Apriani Rahayu', 23), ('Melati Daeva Oktavianti', 26)])\n",
      "\n",
      "Updated Dictionary (Setelah Delete):\n",
      "dict_items([('Gregoria M Tunjung', 21), ('Greysia Polii', 33), ('Apriani Rahayu', 23)])\n"
     ]
    }
   ],
   "source": [
    "# Original Dictionary \n",
    "dict_putri = {'Gregoria M Tunjung' : 21, 'Greysia Polii' : 33, 'Apriani Rahayu' : 23, 'Melati Daeva Oktavianti' : 26}\n",
    "  \n",
    "print(\"Original Dictionary items:\")\n",
    "  \n",
    "items = dict_putri.items()\n",
    "  \n",
    "print(items)\n",
    "  \n",
    "# Delete item  dari dictionary\n",
    "del[dict_putri['Melati Daeva Oktavianti']]\n",
    "print('\\nUpdated Dictionary (Setelah Delete):')\n",
    "print(items)\n"
   ]
  },
  {
   "cell_type": "markdown",
   "id": "4f4b6271",
   "metadata": {},
   "source": [
    "### Mengakses Dictionary dengan items(): operasi update()\n",
    "**Metode update() digunakan untuk menyisipkan item yang ditentukan ke Dictionary.\n",
    "Item yang ditentukan dapat berupa dictionary, atau objek yang dapat diubah dengan key value pair. Pada contoh dibawah dilakukan update untuk menambahkan satu nama pemain putri.**"
   ]
  },
  {
   "cell_type": "code",
   "execution_count": 9,
   "id": "032df092",
   "metadata": {},
   "outputs": [
    {
     "name": "stdout",
     "output_type": "stream",
     "text": [
      "Original Dictionary items:\n",
      "dict_items([('Gregoria M Tunjung', 21), ('Greysia Polii', 33), ('Apriani Rahayu', 23)])\n",
      "\n",
      "Updated Dictionary:\n",
      "{'Gregoria M Tunjung': 21, 'Greysia Polii': 33, 'Apriani Rahayu': 23, 'Melati Daeva Oktavianti': 26}\n"
     ]
    }
   ],
   "source": [
    "# Original Dictionary \n",
    "dict_putri = {'Gregoria M Tunjung' : 21, 'Greysia Polii' : 33, 'Apriani Rahayu' : 23}\n",
    "  \n",
    "print(\"Original Dictionary items:\")\n",
    "  \n",
    "items = dict_putri.items()\n",
    "  \n",
    "print(items)\n",
    "\n",
    "dict_putri.update({'Melati Daeva Oktavianti' : 26})\n",
    "print('\\nUpdated Dictionary:')\n",
    "print(dict_putri)\n"
   ]
  },
  {
   "cell_type": "markdown",
   "id": "b0a0c015",
   "metadata": {},
   "source": [
    "### Menghapus item dengan perintah popitem()\n",
    "**Metode popitem() menghapus item yang terakhir dimasukkan ke dalam kamus. Pada contoh dibawah, dapat dilihat pasangan Mohammad Ahsan dan Hendra Setiawan yang berada pada posisi terakhir di dictionary berhasil dihilangkan.**"
   ]
  },
  {
   "cell_type": "code",
   "execution_count": 10,
   "id": "c66cfd21",
   "metadata": {},
   "outputs": [
    {
     "name": "stdout",
     "output_type": "stream",
     "text": [
      "{'Kevin Sanjaya': 'Marcus F.Gideon'}\n"
     ]
    }
   ],
   "source": [
    "dict = {'Kevin Sanjaya' : 'Marcus F.Gideon', 'Mohammad Ahsan' :'Hendra Setiawan'}\n",
    "dict.popitem ()\n",
    "print(dict)"
   ]
  },
  {
   "cell_type": "markdown",
   "id": "5871adb3",
   "metadata": {},
   "source": [
    "### Menampilkan item dengan perintah values()\n",
    "**Values() adalah metode bawaan dalam bahasa pemrograman Python yang dapat menampilkan daftar semua nilai yang tersedia dalam kamus yang diberikan. Pada contoh dibawah, ada dictionary \"usia\" dari tiap pemain ganda putra. Perintah values() memberikan output berupa usia dari semua nama pemain yang terdaftar dalam dictionary.** "
   ]
  },
  {
   "cell_type": "code",
   "execution_count": 11,
   "id": "e94c6f9f",
   "metadata": {},
   "outputs": [
    {
     "name": "stdout",
     "output_type": "stream",
     "text": [
      "dict_values([26, 30, 33, 36])\n"
     ]
    }
   ],
   "source": [
    "# Dictionary Usia pemain ganda putra \n",
    "usia = {'Kevin Sanjaya' : 26, 'Marcus F Gideon' : 30, 'Mohammad Ahsan' : 33, 'Hendra Setiawan' : 36}\n",
    "\n",
    "print(usia.values())"
   ]
  },
  {
   "cell_type": "markdown",
   "id": "154997b7",
   "metadata": {},
   "source": [
    "# Bagian 2. Fungsi Rekursi untuk Perhitungan Faktorial\n",
    "**Faktorial suatu bilangan adalah hasil kali semua bilangan bulat dari 1 sampai dengan bilangan tersebut.\n",
    "Misalnya, faktorial dari 6 adalah 1*2*3*4*5*6 = 720. Faktorial tidak didefinisikan untuk bilangan negatif dan faktorial dari nol adalah satu, 0! = 1.**"
   ]
  },
  {
   "cell_type": "code",
   "execution_count": 12,
   "id": "187d7204",
   "metadata": {},
   "outputs": [
    {
     "name": "stdout",
     "output_type": "stream",
     "text": [
      "Nilai faktorial dari 6 adalah 720\n"
     ]
    }
   ],
   "source": [
    "# Faktorial suatu bilangan menggunakan fungsi rekursi\n",
    "def recur_factorial(n):\n",
    "   if n == 1:\n",
    "       return n\n",
    "   else:\n",
    "       return n*recur_factorial(n-1)\n",
    "\n",
    "num = 6\n",
    "\n",
    "# Mengecek jika angka bernilai negatif\n",
    "if num < 0:\n",
    "   print(\"Faktorial dari bilangan negatif tidak dapat dihitung\")\n",
    "elif num == 0:\n",
    "   print(\"Faktorial dari 0 adalah 1\")\n",
    "else:\n",
    "   print(\"Nilai faktorial dari\", num, \"adalah\", recur_factorial(num))"
   ]
  },
  {
   "cell_type": "markdown",
   "id": "57361d4a",
   "metadata": {},
   "source": [
    "\n",
    "\n",
    "\n",
    "*Jupyter Notebook : https://github.com/RumaisahHdy/python_dictionary_and_tuple*"
   ]
  }
 ],
 "metadata": {
  "kernelspec": {
   "display_name": "Python 3",
   "language": "python",
   "name": "python3"
  },
  "language_info": {
   "codemirror_mode": {
    "name": "ipython",
    "version": 3
   },
   "file_extension": ".py",
   "mimetype": "text/x-python",
   "name": "python",
   "nbconvert_exporter": "python",
   "pygments_lexer": "ipython3",
   "version": "3.8.8"
  }
 },
 "nbformat": 4,
 "nbformat_minor": 5
}
